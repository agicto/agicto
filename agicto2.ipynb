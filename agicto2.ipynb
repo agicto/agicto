{
 "cells": [
  {
   "cell_type": "markdown",
   "metadata": {},
   "source": [
    "# 一、ChatGPT模型与用户交互：详解角色、顺序与设置\n",
    "\n",
    "## 2.1 消息角色的设计与应用\n"
   ]
  },
  {
   "cell_type": "markdown",
   "metadata": {},
   "source": [
    "### 2.1.1 用户与助手：基础对话架构\n"
   ]
  },
  {
   "cell_type": "markdown",
   "metadata": {},
   "source": [
    "在与ChatGPT模型进行交互时，最基础的角色包括用户（`user`）和助手（`assistant`）。用户负责提出问题或者发出请求，而助手则负责响应。\n"
   ]
  },
  {
   "cell_type": "code",
   "execution_count": null,
   "metadata": {},
   "outputs": [],
   "source": [
    "# 用户角色代码示例：\n",
    "\n",
    "import openai\n",
    "\n",
    "response = openai.ChatCompletion.create(\n",
    "  model=\"gpt-3.5-turbo\",\n",
    "  messages=[\n",
    "    {\"role\": \"user\", \"content\": \"请解释一下，什么是大型语言模型？\"}\n",
    "  ]\n",
    ")\n",
    "print(response.choices[0].message['content'])\n"
   ]
  },
  {
   "cell_type": "markdown",
   "metadata": {},
   "source": [
    "### 2.1.2 系统角色：创建对话环境\n"
   ]
  },
  {
   "cell_type": "markdown",
   "metadata": {},
   "source": [
    "为了让对话更加多元和富有层次，我们可以引入一个额外的“系统”（`system`）角色。这个角色能帮助我们设定整个对话环境，从而让模型的回应更加精确。\n"
   ]
  },
  {
   "cell_type": "code",
   "execution_count": null,
   "metadata": {},
   "outputs": [],
   "source": [
    "# 环境设定代码示例：\n",
    "\n",
    "response = openai.ChatCompletion.create(\n",
    "  model=\"gpt-3.5-turbo\",\n",
    "  messages=[\n",
    "    {\"role\": \"system\", \"content\": \"你现在是一名大型语言模型的专家\"},\n",
    "    {\"role\": \"user\", \"content\": \"请解释一下，什么是大型语言模型？\"}\n",
    "  ]\n",
    ")\n",
    "print(response.choices[0].message['content'])\n"
   ]
  },
  {
   "cell_type": "markdown",
   "metadata": {},
   "source": [
    "### 2.1.3 消息顺序：为何顺序重要\n"
   ]
  },
  {
   "cell_type": "markdown",
   "metadata": {},
   "source": [
    "虽然系统角色可以非常有用，但它必须在用户角色之前出现，这样才能正确地影响模型的回应。\n"
   ]
  },
  {
   "cell_type": "code",
   "execution_count": null,
   "metadata": {},
   "outputs": [],
   "source": [
    "# 错误示例：\n",
    "\n",
    "# 这样做是不正确的，因为系统消息在用户消息之后\n",
    "response = openai.ChatCompletion.create(\n",
    "  model=\"gpt-3.5-turbo\",\n",
    "  messages=[\n",
    "    {\"role\": \"user\", \"content\": \"请解释一下，什么是大型语言模型？\"},\n",
    "    {\"role\": \"system\", \"content\": \"你现在是一名大型语言模型的专家\"}\n",
    "  ]\n",
    ")\n"
   ]
  }
 ],
 "metadata": {
  "language_info": {
   "name": "python"
  },
  "orig_nbformat": 4
 },
 "nbformat": 4,
 "nbformat_minor": 2
}
